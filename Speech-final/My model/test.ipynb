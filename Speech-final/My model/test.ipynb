{
 "cells": [
  {
   "cell_type": "code",
   "execution_count": 1,
   "metadata": {},
   "outputs": [],
   "source": [
    "import librosa   #for audio processing\n",
    "import IPython.display as ipd\n",
    "import matplotlib.pyplot as plt\n",
    "import numpy as np\n",
    "from scipy.io import wavfile#for audio\n",
    "from scipy.io.wavfile import write\n",
    "import sounddevice as sd\n",
    "import soundfile as sf\n",
    "import cv2"
   ]
  },
  {
   "cell_type": "code",
   "execution_count": 2,
   "metadata": {},
   "outputs": [
    {
     "name": "stdout",
     "output_type": "stream",
     "text": [
      "Start recording\n",
      "Done recording\n"
     ]
    }
   ],
   "source": [
    "fs = 44100  # Sample rate\n",
    "seconds = 1  # Duration of recording\n",
    "\n",
    "print('Start recording')\n",
    "myrecording = sd.rec(int(seconds * fs), samplerate=fs, channels=2)\n",
    "sd.wait()  # Wait until recording is finished\n",
    "write('./voice/output.wav', fs, myrecording)  # Save as WAV file\n",
    "print('Done recording')"
   ]
  },
  {
   "cell_type": "code",
   "execution_count": 3,
   "metadata": {},
   "outputs": [],
   "source": [
    "filename = './voice/output.wav'\n",
    "# Extract data and sampling rate from file\n",
    "# data, fs = sf.read(filename, dtype='float32') \n",
    "# print(fs, data.size)\n",
    "# sd.play(data, fs)\n",
    "# status = sd.wait(seconds)  # Wait until file is done playing"
   ]
  },
  {
   "cell_type": "code",
   "execution_count": 4,
   "metadata": {},
   "outputs": [
    {
     "name": "stdout",
     "output_type": "stream",
     "text": [
      "16000 8000\n"
     ]
    }
   ],
   "source": [
    "sample, sample_rate = librosa.load(filename, sr=16000)\n",
    "\n",
    "sample = librosa.resample(sample, sample_rate, 8000)\n",
    "print(sample_rate, sample.size)"
   ]
  },
  {
   "cell_type": "code",
   "execution_count": 5,
   "metadata": {},
   "outputs": [],
   "source": [
    "def process_voice(filename, rate=1600):\n",
    "    sample, sample_rate = librosa.load(filename, sr=16000)\n",
    "    sample = librosa.resample(sample, sample_rate, 8000)\n",
    "    print(sample_rate, sample.size)\n",
    "    return sample"
   ]
  },
  {
   "cell_type": "code",
   "execution_count": 6,
   "metadata": {},
   "outputs": [
    {
     "name": "stderr",
     "output_type": "stream",
     "text": [
      "Using TensorFlow backend.\n"
     ]
    }
   ],
   "source": [
    "# loading model to train\n",
    "from keras.models import load_model\n",
    "\n",
    "model = load_model('./models/speech.h5')"
   ]
  },
  {
   "cell_type": "code",
   "execution_count": 7,
   "metadata": {},
   "outputs": [
    {
     "name": "stdout",
     "output_type": "stream",
     "text": [
      "8\n"
     ]
    },
    {
     "data": {
      "text/plain": [
       "'off'"
      ]
     },
     "execution_count": 7,
     "metadata": {},
     "output_type": "execute_result"
    }
   ],
   "source": [
    "#moment of the truth\n",
    "labels=['unknown', \"yes\", \"no\", \"up\", \"down\", \"left\", \"right\", \"on\", \"off\", \"stop\", \"go\"]\n",
    "\n",
    "test = sample.reshape(1,len(sample),1)\n",
    "prob = model.predict(test)\n",
    "index = np.argmax(prob[0])\n",
    "print(index)\n",
    "labels[index]"
   ]
  },
  {
   "cell_type": "code",
   "execution_count": 8,
   "metadata": {},
   "outputs": [],
   "source": [
    "prediction = ''\n",
    "action = ''\n",
    "score = 0\n",
    "system_control = True"
   ]
  },
  {
   "cell_type": "code",
   "execution_count": 9,
   "metadata": {},
   "outputs": [],
   "source": [
    "class Volume(object):\n",
    "    def __init__(self):\n",
    "        self.level = .5\n",
    "\n",
    "    def increase(self, amount):\n",
    "        self.level += amount\n",
    "        print(f'New level is: {self.level}')\n",
    "\n",
    "    def decrease(self, amount):\n",
    "        self.level -= amount\n",
    "        print(f'New level is: {self.level}')\n",
    "\n",
    "vol = Volume()"
   ]
  },
  {
   "cell_type": "code",
   "execution_count": 10,
   "metadata": {},
   "outputs": [],
   "source": [
    "voice_labels = {labels.index('off'): 0,\n",
    "                 labels.index('down'): 1,\n",
    "                 labels.index('up'): 2,\n",
    "                 labels.index('on'): 3}\n",
    "\n",
    "voice_names = {0: 'off',\n",
    "                 1: 'down',\n",
    "                 2: 'up',\n",
    "                 3: 'on'}"
   ]
  },
  {
   "cell_type": "code",
   "execution_count": 11,
   "metadata": {},
   "outputs": [
    {
     "name": "stdout",
     "output_type": "stream",
     "text": [
      "predict: [[0.03868394 0.04181247 0.03434022 0.03003345 0.07996186 0.04896568\n",
      "  0.03151544 0.11510051 0.4556622  0.09807139 0.02585287]]\n",
      "off\n"
     ]
    },
    {
     "data": {
      "text/plain": [
       "('off', 45.57)"
      ]
     },
     "execution_count": 11,
     "metadata": {},
     "output_type": "execute_result"
    }
   ],
   "source": [
    "def predict_voice(sample):\n",
    "    test = sample.reshape(1,len(sample),1)\n",
    "    prob = model.predict(test)\n",
    "    print(f'predict: {prob}')\n",
    "    index = np.argmax(prob[0])\n",
    "    score = float(\"%0.2f\" % (max(prob[0]) * 100))\n",
    "    print(labels[index])\n",
    "   \n",
    "    return labels[index], score\n",
    "\n",
    "predict_voice(sample)"
   ]
  },
  {
   "cell_type": "code",
   "execution_count": 12,
   "metadata": {},
   "outputs": [],
   "source": [
    "# Keyboard OP\n",
    "k = cv2.waitKey(10)\n",
    "# if k == 27:  # press ESC to exit all windows at any time\n",
    "#     break\n",
    "if k == 32:     # If space bar pressed\n",
    "    print('Ready to play')\n",
    "    pygame.init()\n",
    "    pygame.mixer.init()\n",
    "    pygame.mixer.music.load('yeah.mp3')\n",
    "    pygame.mixer.music.set_volume(vol.level)\n",
    "    pygame.mixer.music.play()\n",
    "    pygame.mixer.music.set_pos(50)\n",
    "    pygame.mixer.music.pause()\n",
    "\n",
    "    sample = process_voice(filename, rate=1600)\n",
    "    prediction, score = predict_voice(sample)\n",
    "\n",
    "    if system_control == True:\n",
    "        if prediction == 'on':\n",
    "            try:\n",
    "                action = \"Music on\"\n",
    "\n",
    "                # sonos.play()\n",
    "                pygame.mixer.music.unpause()\n",
    "            # Turn off smart home actions if devices are not responding\n",
    "            except ConnectionError:\n",
    "                system_control = False\n",
    "                pass\n",
    "\n",
    "        elif prediction == 'off':\n",
    "            try:\n",
    "                action = 'Music off'\n",
    "                # b.set_light(6, off_command)\n",
    "                # sonos.pause()\n",
    "                pygame.mixer.music.pause()\n",
    "            except ConnectionError:\n",
    "                system_control = False\n",
    "                pass\n",
    "\n",
    "        elif prediction == 'down':\n",
    "            try:\n",
    "                action = 'Volume down'\n",
    "                # sonos.volume -= 15\n",
    "                vol.decrease(0.2)\n",
    "                pygame.mixer.music.set_volume(vol.level)\n",
    "            except ConnectionError:\n",
    "                system_control = False\n",
    "                pass\n",
    "\n",
    "        elif prediction == 'Okay':\n",
    "            try:\n",
    "                action = 'Volume up'\n",
    "                # sonos.volume += 15\n",
    "                vol.increase(0.2)\n",
    "                pygame.mixer.music.set_volume(vol.level)\n",
    "            except ConnectionError:\n",
    "                system_control = False\n",
    "                pass\n",
    "\n",
    "        #             elif prediction == 'Peace':\n",
    "        #                 try:\n",
    "        #                     action = ''\n",
    "        #                 except ConnectionError:\n",
    "        #                     smart_home = False\n",
    "        #                     pass\n",
    "\n",
    "        else:\n",
    "            pass\n"
   ]
  },
  {
   "cell_type": "code",
   "execution_count": 14,
   "metadata": {},
   "outputs": [],
   "source": [
    "def record():\n",
    "    fs = 44100  # Sample rate\n",
    "    seconds = 1  # Duration of recording\n",
    "\n",
    "    print('Start recording')\n",
    "    myrecording = sd.rec(int(seconds * fs), samplerate=fs, channels=2)\n",
    "    sd.wait()  # Wait until recording is finished\n",
    "    write('./voice/output.wav', fs, myrecording)  # Save as WAV file\n",
    "    print('Done recording')\n",
    "    return myrecording"
   ]
  },
  {
   "cell_type": "code",
   "execution_count": 13,
   "metadata": {},
   "outputs": [
    {
     "name": "stdout",
     "output_type": "stream",
     "text": [
      "0\n",
      "1\n",
      "2\n",
      "3\n",
      "4\n",
      "5\n"
     ]
    }
   ],
   "source": [
    "i = 0 \n",
    "while i <=1:\n",
    "    i += 1\n",
    "    raw_record = record() #recording and return raw file\n",
    "    record = process_voice(raw_record, rate=1600)\n",
    "    sd.play(record, 16000)\n",
    "    status = sd.wait(1)\n",
    "    "
   ]
  }
 ],
 "metadata": {
  "kernelspec": {
   "display_name": "Python 3",
   "language": "python",
   "name": "python3"
  },
  "language_info": {
   "codemirror_mode": {
    "name": "ipython",
    "version": 3
   },
   "file_extension": ".py",
   "mimetype": "text/x-python",
   "name": "python",
   "nbconvert_exporter": "python",
   "pygments_lexer": "ipython3",
   "version": "3.7.3"
  }
 },
 "nbformat": 4,
 "nbformat_minor": 4
}
